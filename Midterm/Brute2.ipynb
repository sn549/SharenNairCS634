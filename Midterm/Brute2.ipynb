{
 "cells": [
  {
   "cell_type": "markdown",
   "metadata": {},
   "source": [
    "Import Statements"
   ]
  },
  {
   "cell_type": "code",
   "execution_count": 523,
   "metadata": {},
   "outputs": [],
   "source": [
    "import pandas as pd\n",
    "import csv\n",
    "import ast\n",
    "from collections import Counter\n",
    "import itertools \n",
    "from itertools import combinations"
   ]
  },
  {
   "cell_type": "markdown",
   "metadata": {},
   "source": [
    "Asking user for Support Value and Confidence"
   ]
  },
  {
   "cell_type": "code",
   "execution_count": 524,
   "metadata": {},
   "outputs": [],
   "source": [
    "minimum_support=int(input(\"What is the minimum support %\"))\n",
    "min_support=minimum_support/100\n",
    "minimum_confidence=int(input(\"What is the minimum confidence %\"))\n",
    "min_confidence=minimum_confidence/100"
   ]
  },
  {
   "cell_type": "markdown",
   "metadata": {},
   "source": [
    "READING CSV FILE"
   ]
  },
  {
   "cell_type": "code",
   "execution_count": 525,
   "metadata": {},
   "outputs": [
    {
     "name": "stdout",
     "output_type": "stream",
     "text": [
      " 1:kmart\n",
      " 2:Amazon \n",
      " 3:NBA \n",
      " 4:Shoprite \n",
      " 5:Express\n"
     ]
    }
   ],
   "source": [
    "print(\" 1:kmart\\n 2:Amazon \\n 3:NBA \\n 4:Shoprite \\n 5:Express\")\n",
    "user_file_input = int(input(\"Choose file we are going to use. Choose a number between 1 to 5 respected to store\"))\n",
    "if user_file_input==1:\n",
    "    file= pd.read_csv(\"kmart.csv\")\n",
    "elif user_file_input==2:\n",
    "    file= pd.read_csv(\"AMAZON.csv\")\n",
    "elif user_file_input==3:\n",
    "     file= pd.read_csv(\"NBA.csv\")\n",
    "elif user_file_input==4:\n",
    "    file= file= pd.read_csv(\"Shoprite.csv\")\n",
    "elif user_file_input==5:\n",
    "    file=pd.read_csv(\"Express.csv\")\n",
    "else:\n",
    "    print(\"Invalid choise. Please input between 1 and 5\")\n",
    "\n"
   ]
  },
  {
   "cell_type": "markdown",
   "metadata": {},
   "source": [
    "Lists: Item Set, Transactions, my_list"
   ]
  },
  {
   "cell_type": "code",
   "execution_count": 526,
   "metadata": {},
   "outputs": [],
   "source": [
    "item_list=[]\n",
    "Transactions=[]\n",
    "my_list=[]"
   ]
  },
  {
   "cell_type": "markdown",
   "metadata": {},
   "source": [
    "Taking data from CSV file and storing it in the lists"
   ]
  },
  {
   "cell_type": "markdown",
   "metadata": {},
   "source": [
    "Transactions is the list of all transactions from the csv file "
   ]
  },
  {
   "cell_type": "code",
   "execution_count": 527,
   "metadata": {},
   "outputs": [],
   "source": [
    "for x in file['Transactions']:\n",
    "    item_list=ast.literal_eval(x)\n",
    "    Transactions.append(item_list)\n"
   ]
  },
  {
   "cell_type": "markdown",
   "metadata": {},
   "source": [
    "Item_Set is the list of individual items that have been bought and can be seen atleast once in transactions"
   ]
  },
  {
   "cell_type": "code",
   "execution_count": 528,
   "metadata": {},
   "outputs": [],
   "source": [
    "for one_transactions in Transactions:\n",
    "    for items in one_transactions:\n",
    "        if items not in item_list:\n",
    "            item_list.append(items)\n",
    "\n",
    "#print(item_list)"
   ]
  },
  {
   "cell_type": "markdown",
   "metadata": {},
   "source": [
    "Count the occurance of item items that are in the transactions in order to be able to write the support"
   ]
  },
  {
   "cell_type": "code",
   "execution_count": 529,
   "metadata": {},
   "outputs": [
    {
     "name": "stdout",
     "output_type": "stream",
     "text": [
      "{'Cheese': 7, 'T-Shirts': 6, 'Cereal': 9, 'Vegetables': 13, 'Deli Meats': 8, 'Lotion': 9, 'Coat Hangers': 9}\n"
     ]
    }
   ],
   "source": [
    "dict_items_occurance={}\n",
    "\n",
    "#counter=0\n",
    "\n",
    "for one_item in item_list:\n",
    "    counter=0\n",
    "    for one_transactions in Transactions:\n",
    "        if one_item in one_transactions:\n",
    "            counter +=1\n",
    "            dict_items_occurance[one_item]=counter\n",
    "print(dict_items_occurance)\n",
    "        \n"
   ]
  },
  {
   "cell_type": "markdown",
   "metadata": {},
   "source": [
    "Find the combinations of item_lists"
   ]
  },
  {
   "cell_type": "code",
   "execution_count": 530,
   "metadata": {},
   "outputs": [
    {
     "name": "stdout",
     "output_type": "stream",
     "text": [
      "[[('Cheese', 'T-Shirts'), ('Cheese', 'Cereal'), ('Cheese', 'Vegetables'), ('Cheese', 'Deli Meats'), ('Cheese', 'Lotion'), ('Cheese', 'Coat Hangers'), ('T-Shirts', 'Cereal'), ('T-Shirts', 'Vegetables'), ('T-Shirts', 'Deli Meats'), ('T-Shirts', 'Lotion'), ('T-Shirts', 'Coat Hangers'), ('Cereal', 'Vegetables'), ('Cereal', 'Deli Meats'), ('Cereal', 'Lotion'), ('Cereal', 'Coat Hangers'), ('Vegetables', 'Deli Meats'), ('Vegetables', 'Lotion'), ('Vegetables', 'Coat Hangers'), ('Deli Meats', 'Lotion'), ('Deli Meats', 'Coat Hangers'), ('Lotion', 'Coat Hangers')], [('Cheese', 'T-Shirts', 'Cereal'), ('Cheese', 'T-Shirts', 'Vegetables'), ('Cheese', 'T-Shirts', 'Deli Meats'), ('Cheese', 'T-Shirts', 'Lotion'), ('Cheese', 'T-Shirts', 'Coat Hangers'), ('Cheese', 'Cereal', 'Vegetables'), ('Cheese', 'Cereal', 'Deli Meats'), ('Cheese', 'Cereal', 'Lotion'), ('Cheese', 'Cereal', 'Coat Hangers'), ('Cheese', 'Vegetables', 'Deli Meats'), ('Cheese', 'Vegetables', 'Lotion'), ('Cheese', 'Vegetables', 'Coat Hangers'), ('Cheese', 'Deli Meats', 'Lotion'), ('Cheese', 'Deli Meats', 'Coat Hangers'), ('Cheese', 'Lotion', 'Coat Hangers'), ('T-Shirts', 'Cereal', 'Vegetables'), ('T-Shirts', 'Cereal', 'Deli Meats'), ('T-Shirts', 'Cereal', 'Lotion'), ('T-Shirts', 'Cereal', 'Coat Hangers'), ('T-Shirts', 'Vegetables', 'Deli Meats'), ('T-Shirts', 'Vegetables', 'Lotion'), ('T-Shirts', 'Vegetables', 'Coat Hangers'), ('T-Shirts', 'Deli Meats', 'Lotion'), ('T-Shirts', 'Deli Meats', 'Coat Hangers'), ('T-Shirts', 'Lotion', 'Coat Hangers'), ('Cereal', 'Vegetables', 'Deli Meats'), ('Cereal', 'Vegetables', 'Lotion'), ('Cereal', 'Vegetables', 'Coat Hangers'), ('Cereal', 'Deli Meats', 'Lotion'), ('Cereal', 'Deli Meats', 'Coat Hangers'), ('Cereal', 'Lotion', 'Coat Hangers'), ('Vegetables', 'Deli Meats', 'Lotion'), ('Vegetables', 'Deli Meats', 'Coat Hangers'), ('Vegetables', 'Lotion', 'Coat Hangers'), ('Deli Meats', 'Lotion', 'Coat Hangers')], [('Cheese', 'T-Shirts', 'Cereal', 'Vegetables'), ('Cheese', 'T-Shirts', 'Cereal', 'Deli Meats'), ('Cheese', 'T-Shirts', 'Cereal', 'Lotion'), ('Cheese', 'T-Shirts', 'Cereal', 'Coat Hangers'), ('Cheese', 'T-Shirts', 'Vegetables', 'Deli Meats'), ('Cheese', 'T-Shirts', 'Vegetables', 'Lotion'), ('Cheese', 'T-Shirts', 'Vegetables', 'Coat Hangers'), ('Cheese', 'T-Shirts', 'Deli Meats', 'Lotion'), ('Cheese', 'T-Shirts', 'Deli Meats', 'Coat Hangers'), ('Cheese', 'T-Shirts', 'Lotion', 'Coat Hangers'), ('Cheese', 'Cereal', 'Vegetables', 'Deli Meats'), ('Cheese', 'Cereal', 'Vegetables', 'Lotion'), ('Cheese', 'Cereal', 'Vegetables', 'Coat Hangers'), ('Cheese', 'Cereal', 'Deli Meats', 'Lotion'), ('Cheese', 'Cereal', 'Deli Meats', 'Coat Hangers'), ('Cheese', 'Cereal', 'Lotion', 'Coat Hangers'), ('Cheese', 'Vegetables', 'Deli Meats', 'Lotion'), ('Cheese', 'Vegetables', 'Deli Meats', 'Coat Hangers'), ('Cheese', 'Vegetables', 'Lotion', 'Coat Hangers'), ('Cheese', 'Deli Meats', 'Lotion', 'Coat Hangers'), ('T-Shirts', 'Cereal', 'Vegetables', 'Deli Meats'), ('T-Shirts', 'Cereal', 'Vegetables', 'Lotion'), ('T-Shirts', 'Cereal', 'Vegetables', 'Coat Hangers'), ('T-Shirts', 'Cereal', 'Deli Meats', 'Lotion'), ('T-Shirts', 'Cereal', 'Deli Meats', 'Coat Hangers'), ('T-Shirts', 'Cereal', 'Lotion', 'Coat Hangers'), ('T-Shirts', 'Vegetables', 'Deli Meats', 'Lotion'), ('T-Shirts', 'Vegetables', 'Deli Meats', 'Coat Hangers'), ('T-Shirts', 'Vegetables', 'Lotion', 'Coat Hangers'), ('T-Shirts', 'Deli Meats', 'Lotion', 'Coat Hangers'), ('Cereal', 'Vegetables', 'Deli Meats', 'Lotion'), ('Cereal', 'Vegetables', 'Deli Meats', 'Coat Hangers'), ('Cereal', 'Vegetables', 'Lotion', 'Coat Hangers'), ('Cereal', 'Deli Meats', 'Lotion', 'Coat Hangers'), ('Vegetables', 'Deli Meats', 'Lotion', 'Coat Hangers')], [('Cheese', 'T-Shirts', 'Cereal', 'Vegetables', 'Deli Meats'), ('Cheese', 'T-Shirts', 'Cereal', 'Vegetables', 'Lotion'), ('Cheese', 'T-Shirts', 'Cereal', 'Vegetables', 'Coat Hangers'), ('Cheese', 'T-Shirts', 'Cereal', 'Deli Meats', 'Lotion'), ('Cheese', 'T-Shirts', 'Cereal', 'Deli Meats', 'Coat Hangers'), ('Cheese', 'T-Shirts', 'Cereal', 'Lotion', 'Coat Hangers'), ('Cheese', 'T-Shirts', 'Vegetables', 'Deli Meats', 'Lotion'), ('Cheese', 'T-Shirts', 'Vegetables', 'Deli Meats', 'Coat Hangers'), ('Cheese', 'T-Shirts', 'Vegetables', 'Lotion', 'Coat Hangers'), ('Cheese', 'T-Shirts', 'Deli Meats', 'Lotion', 'Coat Hangers'), ('Cheese', 'Cereal', 'Vegetables', 'Deli Meats', 'Lotion'), ('Cheese', 'Cereal', 'Vegetables', 'Deli Meats', 'Coat Hangers'), ('Cheese', 'Cereal', 'Vegetables', 'Lotion', 'Coat Hangers'), ('Cheese', 'Cereal', 'Deli Meats', 'Lotion', 'Coat Hangers'), ('Cheese', 'Vegetables', 'Deli Meats', 'Lotion', 'Coat Hangers'), ('T-Shirts', 'Cereal', 'Vegetables', 'Deli Meats', 'Lotion'), ('T-Shirts', 'Cereal', 'Vegetables', 'Deli Meats', 'Coat Hangers'), ('T-Shirts', 'Cereal', 'Vegetables', 'Lotion', 'Coat Hangers'), ('T-Shirts', 'Cereal', 'Deli Meats', 'Lotion', 'Coat Hangers'), ('T-Shirts', 'Vegetables', 'Deli Meats', 'Lotion', 'Coat Hangers'), ('Cereal', 'Vegetables', 'Deli Meats', 'Lotion', 'Coat Hangers')], [('Cheese', 'T-Shirts', 'Cereal', 'Vegetables', 'Deli Meats', 'Lotion'), ('Cheese', 'T-Shirts', 'Cereal', 'Vegetables', 'Deli Meats', 'Coat Hangers'), ('Cheese', 'T-Shirts', 'Cereal', 'Vegetables', 'Lotion', 'Coat Hangers'), ('Cheese', 'T-Shirts', 'Cereal', 'Deli Meats', 'Lotion', 'Coat Hangers'), ('Cheese', 'T-Shirts', 'Vegetables', 'Deli Meats', 'Lotion', 'Coat Hangers'), ('Cheese', 'Cereal', 'Vegetables', 'Deli Meats', 'Lotion', 'Coat Hangers'), ('T-Shirts', 'Cereal', 'Vegetables', 'Deli Meats', 'Lotion', 'Coat Hangers')], [('Cheese', 'T-Shirts', 'Cereal', 'Vegetables', 'Deli Meats', 'Lotion', 'Coat Hangers')]]\n"
     ]
    }
   ],
   "source": [
    "Amount_of_items=len(item_list)\n",
    "combinations=[]\n",
    "for perm in range(2,Amount_of_items+1):\n",
    "    combinations.append(list(itertools.combinations(dict_items_occurance,perm)))\n",
    "\n",
    "print(combinations)"
   ]
  },
  {
   "cell_type": "markdown",
   "metadata": {},
   "source": [
    "Find Occurances for Combinations. Store in the dictionary"
   ]
  },
  {
   "cell_type": "code",
   "execution_count": 531,
   "metadata": {},
   "outputs": [
    {
     "name": "stdout",
     "output_type": "stream",
     "text": [
      "{'Cheese': 7, 'T-Shirts': 6, 'Cereal': 9, 'Vegetables': 13, 'Deli Meats': 8, 'Lotion': 9, 'Coat Hangers': 9, ('Cheese', 'T-Shirts'): 2, ('Cheese', 'Cereal'): 3, ('Cheese', 'Vegetables'): 2, ('Cheese', 'Deli Meats'): 3, ('Cheese', 'Lotion'): 2, ('Cheese', 'Coat Hangers'): 4, ('T-Shirts', 'Cereal'): 3, ('T-Shirts', 'Vegetables'): 6, ('T-Shirts', 'Deli Meats'): 2, ('T-Shirts', 'Lotion'): 4, ('T-Shirts', 'Coat Hangers'): 2, ('Cereal', 'Vegetables'): 6, ('Cereal', 'Deli Meats'): 4, ('Cereal', 'Lotion'): 4, ('Cereal', 'Coat Hangers'): 4, ('Vegetables', 'Deli Meats'): 5, ('Vegetables', 'Lotion'): 7, ('Vegetables', 'Coat Hangers'): 4, ('Deli Meats', 'Lotion'): 3, ('Deli Meats', 'Coat Hangers'): 3, ('Lotion', 'Coat Hangers'): 4, ('Cheese', 'T-Shirts', 'Cereal'): 1, ('Cheese', 'T-Shirts', 'Vegetables'): 2, ('Cheese', 'T-Shirts', 'Deli Meats'): 1, ('Cheese', 'T-Shirts', 'Lotion'): 1, ('Cheese', 'T-Shirts', 'Coat Hangers'): 1, ('Cheese', 'Cereal', 'Vegetables'): 1, ('Cheese', 'Cereal', 'Deli Meats'): 2, ('Cheese', 'Cereal', 'Lotion'): 1, ('Cheese', 'Cereal', 'Coat Hangers'): 1, ('Cheese', 'Vegetables', 'Deli Meats'): 1, ('Cheese', 'Vegetables', 'Lotion'): 1, ('Cheese', 'Vegetables', 'Coat Hangers'): 1, ('Cheese', 'Deli Meats', 'Lotion'): 1, ('Cheese', 'Deli Meats', 'Coat Hangers'): 2, ('Cheese', 'Lotion', 'Coat Hangers'): 2, ('T-Shirts', 'Cereal', 'Vegetables'): 3, ('T-Shirts', 'Cereal', 'Deli Meats'): 1, ('T-Shirts', 'Cereal', 'Lotion'): 3, ('T-Shirts', 'Cereal', 'Coat Hangers'): 2, ('T-Shirts', 'Vegetables', 'Deli Meats'): 2, ('T-Shirts', 'Vegetables', 'Lotion'): 4, ('T-Shirts', 'Vegetables', 'Coat Hangers'): 2, ('T-Shirts', 'Deli Meats', 'Lotion'): 1, ('T-Shirts', 'Deli Meats', 'Coat Hangers'): 1, ('T-Shirts', 'Lotion', 'Coat Hangers'): 2, ('Cereal', 'Vegetables', 'Deli Meats'): 3, ('Cereal', 'Vegetables', 'Lotion'): 4, ('Cereal', 'Vegetables', 'Coat Hangers'): 3, ('Cereal', 'Deli Meats', 'Lotion'): 2, ('Cereal', 'Deli Meats', 'Coat Hangers'): 1, ('Cereal', 'Lotion', 'Coat Hangers'): 2, ('Vegetables', 'Deli Meats', 'Lotion'): 2, ('Vegetables', 'Deli Meats', 'Coat Hangers'): 1, ('Vegetables', 'Lotion', 'Coat Hangers'): 2, ('Deli Meats', 'Lotion', 'Coat Hangers'): 2, ('Cheese', 'T-Shirts', 'Cereal', 'Vegetables'): 1, ('Cheese', 'T-Shirts', 'Cereal', 'Deli Meats'): 1, ('Cheese', 'T-Shirts', 'Cereal', 'Lotion'): 1, ('Cheese', 'T-Shirts', 'Cereal', 'Coat Hangers'): 1, ('Cheese', 'T-Shirts', 'Vegetables', 'Deli Meats'): 1, ('Cheese', 'T-Shirts', 'Vegetables', 'Lotion'): 1, ('Cheese', 'T-Shirts', 'Vegetables', 'Coat Hangers'): 1, ('Cheese', 'T-Shirts', 'Deli Meats', 'Lotion'): 1, ('Cheese', 'T-Shirts', 'Deli Meats', 'Coat Hangers'): 1, ('Cheese', 'T-Shirts', 'Lotion', 'Coat Hangers'): 1, ('Cheese', 'Cereal', 'Vegetables', 'Deli Meats'): 1, ('Cheese', 'Cereal', 'Vegetables', 'Lotion'): 1, ('Cheese', 'Cereal', 'Vegetables', 'Coat Hangers'): 1, ('Cheese', 'Cereal', 'Deli Meats', 'Lotion'): 1, ('Cheese', 'Cereal', 'Deli Meats', 'Coat Hangers'): 1, ('Cheese', 'Cereal', 'Lotion', 'Coat Hangers'): 1, ('Cheese', 'Vegetables', 'Deli Meats', 'Lotion'): 1, ('Cheese', 'Vegetables', 'Deli Meats', 'Coat Hangers'): 1, ('Cheese', 'Vegetables', 'Lotion', 'Coat Hangers'): 1, ('Cheese', 'Deli Meats', 'Lotion', 'Coat Hangers'): 1, ('T-Shirts', 'Cereal', 'Vegetables', 'Deli Meats'): 1, ('T-Shirts', 'Cereal', 'Vegetables', 'Lotion'): 3, ('T-Shirts', 'Cereal', 'Vegetables', 'Coat Hangers'): 2, ('T-Shirts', 'Cereal', 'Deli Meats', 'Lotion'): 1, ('T-Shirts', 'Cereal', 'Deli Meats', 'Coat Hangers'): 1, ('T-Shirts', 'Cereal', 'Lotion', 'Coat Hangers'): 2, ('T-Shirts', 'Vegetables', 'Deli Meats', 'Lotion'): 1, ('T-Shirts', 'Vegetables', 'Deli Meats', 'Coat Hangers'): 1, ('T-Shirts', 'Vegetables', 'Lotion', 'Coat Hangers'): 2, ('T-Shirts', 'Deli Meats', 'Lotion', 'Coat Hangers'): 1, ('Cereal', 'Vegetables', 'Deli Meats', 'Lotion'): 2, ('Cereal', 'Vegetables', 'Deli Meats', 'Coat Hangers'): 1, ('Cereal', 'Vegetables', 'Lotion', 'Coat Hangers'): 2, ('Cereal', 'Deli Meats', 'Lotion', 'Coat Hangers'): 1, ('Vegetables', 'Deli Meats', 'Lotion', 'Coat Hangers'): 1, ('Cheese', 'T-Shirts', 'Cereal', 'Vegetables', 'Deli Meats'): 1, ('Cheese', 'T-Shirts', 'Cereal', 'Vegetables', 'Lotion'): 1, ('Cheese', 'T-Shirts', 'Cereal', 'Vegetables', 'Coat Hangers'): 1, ('Cheese', 'T-Shirts', 'Cereal', 'Deli Meats', 'Lotion'): 1, ('Cheese', 'T-Shirts', 'Cereal', 'Deli Meats', 'Coat Hangers'): 1, ('Cheese', 'T-Shirts', 'Cereal', 'Lotion', 'Coat Hangers'): 1, ('Cheese', 'T-Shirts', 'Vegetables', 'Deli Meats', 'Lotion'): 1, ('Cheese', 'T-Shirts', 'Vegetables', 'Deli Meats', 'Coat Hangers'): 1, ('Cheese', 'T-Shirts', 'Vegetables', 'Lotion', 'Coat Hangers'): 1, ('Cheese', 'T-Shirts', 'Deli Meats', 'Lotion', 'Coat Hangers'): 1, ('Cheese', 'Cereal', 'Vegetables', 'Deli Meats', 'Lotion'): 1, ('Cheese', 'Cereal', 'Vegetables', 'Deli Meats', 'Coat Hangers'): 1, ('Cheese', 'Cereal', 'Vegetables', 'Lotion', 'Coat Hangers'): 1, ('Cheese', 'Cereal', 'Deli Meats', 'Lotion', 'Coat Hangers'): 1, ('Cheese', 'Vegetables', 'Deli Meats', 'Lotion', 'Coat Hangers'): 1, ('T-Shirts', 'Cereal', 'Vegetables', 'Deli Meats', 'Lotion'): 1, ('T-Shirts', 'Cereal', 'Vegetables', 'Deli Meats', 'Coat Hangers'): 1, ('T-Shirts', 'Cereal', 'Vegetables', 'Lotion', 'Coat Hangers'): 2, ('T-Shirts', 'Cereal', 'Deli Meats', 'Lotion', 'Coat Hangers'): 1, ('T-Shirts', 'Vegetables', 'Deli Meats', 'Lotion', 'Coat Hangers'): 1, ('Cereal', 'Vegetables', 'Deli Meats', 'Lotion', 'Coat Hangers'): 1, ('Cheese', 'T-Shirts', 'Cereal', 'Vegetables', 'Deli Meats', 'Lotion'): 1, ('Cheese', 'T-Shirts', 'Cereal', 'Vegetables', 'Deli Meats', 'Coat Hangers'): 1, ('Cheese', 'T-Shirts', 'Cereal', 'Vegetables', 'Lotion', 'Coat Hangers'): 1, ('Cheese', 'T-Shirts', 'Cereal', 'Deli Meats', 'Lotion', 'Coat Hangers'): 1, ('Cheese', 'T-Shirts', 'Vegetables', 'Deli Meats', 'Lotion', 'Coat Hangers'): 1, ('Cheese', 'Cereal', 'Vegetables', 'Deli Meats', 'Lotion', 'Coat Hangers'): 1, ('T-Shirts', 'Cereal', 'Vegetables', 'Deli Meats', 'Lotion', 'Coat Hangers'): 1, ('Cheese', 'T-Shirts', 'Cereal', 'Vegetables', 'Deli Meats', 'Lotion', 'Coat Hangers'): 1}\n"
     ]
    }
   ],
   "source": [
    "#counter=0\n",
    "\n",
    "for one_combination in combinations:#Givng different combinations starting from the two itemsets all the way up to seven items\n",
    "    for one_tuple in one_combination:\n",
    "        counter=0\n",
    "        for one_transactions in Transactions:\n",
    "            eng=list(one_tuple)\n",
    "            if(all(x in one_transactions for x in eng)):\n",
    "                counter+=1\n",
    "                \n",
    "                dict_items_occurance[one_tuple]=counter\n",
    "            #print(one_tuple,counter)\n",
    "        \n",
    "\n",
    "print(dict_items_occurance)"
   ]
  },
  {
   "cell_type": "markdown",
   "metadata": {},
   "source": [
    "create new dict_items_support and go through entire dictionary of occurances and if it meers minimum requiremrnts put into support dictionary"
   ]
  },
  {
   "cell_type": "code",
   "execution_count": 532,
   "metadata": {},
   "outputs": [
    {
     "name": "stdout",
     "output_type": "stream",
     "text": [
      "Cheese\n",
      "0.35\n",
      "T-Shirts\n",
      "0.3\n",
      "Cereal\n",
      "0.45\n",
      "Vegetables\n",
      "0.65\n",
      "Deli Meats\n",
      "0.4\n",
      "Lotion\n",
      "0.45\n",
      "Coat Hangers\n",
      "0.45\n",
      "('Cheese', 'T-Shirts')\n",
      "0.1\n",
      "('Cheese', 'Cereal')\n",
      "0.15\n",
      "('Cheese', 'Vegetables')\n",
      "0.1\n",
      "('Cheese', 'Deli Meats')\n",
      "0.15\n",
      "('Cheese', 'Lotion')\n",
      "0.1\n",
      "('Cheese', 'Coat Hangers')\n",
      "0.2\n",
      "('T-Shirts', 'Cereal')\n",
      "0.15\n",
      "('T-Shirts', 'Vegetables')\n",
      "0.3\n",
      "('T-Shirts', 'Deli Meats')\n",
      "0.1\n",
      "('T-Shirts', 'Lotion')\n",
      "0.2\n",
      "('T-Shirts', 'Coat Hangers')\n",
      "0.1\n",
      "('Cereal', 'Vegetables')\n",
      "0.3\n",
      "('Cereal', 'Deli Meats')\n",
      "0.2\n",
      "('Cereal', 'Lotion')\n",
      "0.2\n",
      "('Cereal', 'Coat Hangers')\n",
      "0.2\n",
      "('Vegetables', 'Deli Meats')\n",
      "0.25\n",
      "('Vegetables', 'Lotion')\n",
      "0.35\n",
      "('Vegetables', 'Coat Hangers')\n",
      "0.2\n",
      "('Deli Meats', 'Lotion')\n",
      "0.15\n",
      "('Deli Meats', 'Coat Hangers')\n",
      "0.15\n",
      "('Lotion', 'Coat Hangers')\n",
      "0.2\n",
      "('Cheese', 'T-Shirts', 'Cereal')\n",
      "0.05\n",
      "('Cheese', 'T-Shirts', 'Vegetables')\n",
      "0.1\n",
      "('Cheese', 'T-Shirts', 'Deli Meats')\n",
      "0.05\n",
      "('Cheese', 'T-Shirts', 'Lotion')\n",
      "0.05\n",
      "('Cheese', 'T-Shirts', 'Coat Hangers')\n",
      "0.05\n",
      "('Cheese', 'Cereal', 'Vegetables')\n",
      "0.05\n",
      "('Cheese', 'Cereal', 'Deli Meats')\n",
      "0.1\n",
      "('Cheese', 'Cereal', 'Lotion')\n",
      "0.05\n",
      "('Cheese', 'Cereal', 'Coat Hangers')\n",
      "0.05\n",
      "('Cheese', 'Vegetables', 'Deli Meats')\n",
      "0.05\n",
      "('Cheese', 'Vegetables', 'Lotion')\n",
      "0.05\n",
      "('Cheese', 'Vegetables', 'Coat Hangers')\n",
      "0.05\n",
      "('Cheese', 'Deli Meats', 'Lotion')\n",
      "0.05\n",
      "('Cheese', 'Deli Meats', 'Coat Hangers')\n",
      "0.1\n",
      "('Cheese', 'Lotion', 'Coat Hangers')\n",
      "0.1\n",
      "('T-Shirts', 'Cereal', 'Vegetables')\n",
      "0.15\n",
      "('T-Shirts', 'Cereal', 'Deli Meats')\n",
      "0.05\n",
      "('T-Shirts', 'Cereal', 'Lotion')\n",
      "0.15\n",
      "('T-Shirts', 'Cereal', 'Coat Hangers')\n",
      "0.1\n",
      "('T-Shirts', 'Vegetables', 'Deli Meats')\n",
      "0.1\n",
      "('T-Shirts', 'Vegetables', 'Lotion')\n",
      "0.2\n",
      "('T-Shirts', 'Vegetables', 'Coat Hangers')\n",
      "0.1\n",
      "('T-Shirts', 'Deli Meats', 'Lotion')\n",
      "0.05\n",
      "('T-Shirts', 'Deli Meats', 'Coat Hangers')\n",
      "0.05\n",
      "('T-Shirts', 'Lotion', 'Coat Hangers')\n",
      "0.1\n",
      "('Cereal', 'Vegetables', 'Deli Meats')\n",
      "0.15\n",
      "('Cereal', 'Vegetables', 'Lotion')\n",
      "0.2\n",
      "('Cereal', 'Vegetables', 'Coat Hangers')\n",
      "0.15\n",
      "('Cereal', 'Deli Meats', 'Lotion')\n",
      "0.1\n",
      "('Cereal', 'Deli Meats', 'Coat Hangers')\n",
      "0.05\n",
      "('Cereal', 'Lotion', 'Coat Hangers')\n",
      "0.1\n",
      "('Vegetables', 'Deli Meats', 'Lotion')\n",
      "0.1\n",
      "('Vegetables', 'Deli Meats', 'Coat Hangers')\n",
      "0.05\n",
      "('Vegetables', 'Lotion', 'Coat Hangers')\n",
      "0.1\n",
      "('Deli Meats', 'Lotion', 'Coat Hangers')\n",
      "0.1\n",
      "('Cheese', 'T-Shirts', 'Cereal', 'Vegetables')\n",
      "0.05\n",
      "('Cheese', 'T-Shirts', 'Cereal', 'Deli Meats')\n",
      "0.05\n",
      "('Cheese', 'T-Shirts', 'Cereal', 'Lotion')\n",
      "0.05\n",
      "('Cheese', 'T-Shirts', 'Cereal', 'Coat Hangers')\n",
      "0.05\n",
      "('Cheese', 'T-Shirts', 'Vegetables', 'Deli Meats')\n",
      "0.05\n",
      "('Cheese', 'T-Shirts', 'Vegetables', 'Lotion')\n",
      "0.05\n",
      "('Cheese', 'T-Shirts', 'Vegetables', 'Coat Hangers')\n",
      "0.05\n",
      "('Cheese', 'T-Shirts', 'Deli Meats', 'Lotion')\n",
      "0.05\n",
      "('Cheese', 'T-Shirts', 'Deli Meats', 'Coat Hangers')\n",
      "0.05\n",
      "('Cheese', 'T-Shirts', 'Lotion', 'Coat Hangers')\n",
      "0.05\n",
      "('Cheese', 'Cereal', 'Vegetables', 'Deli Meats')\n",
      "0.05\n",
      "('Cheese', 'Cereal', 'Vegetables', 'Lotion')\n",
      "0.05\n",
      "('Cheese', 'Cereal', 'Vegetables', 'Coat Hangers')\n",
      "0.05\n",
      "('Cheese', 'Cereal', 'Deli Meats', 'Lotion')\n",
      "0.05\n",
      "('Cheese', 'Cereal', 'Deli Meats', 'Coat Hangers')\n",
      "0.05\n",
      "('Cheese', 'Cereal', 'Lotion', 'Coat Hangers')\n",
      "0.05\n",
      "('Cheese', 'Vegetables', 'Deli Meats', 'Lotion')\n",
      "0.05\n",
      "('Cheese', 'Vegetables', 'Deli Meats', 'Coat Hangers')\n",
      "0.05\n",
      "('Cheese', 'Vegetables', 'Lotion', 'Coat Hangers')\n",
      "0.05\n",
      "('Cheese', 'Deli Meats', 'Lotion', 'Coat Hangers')\n",
      "0.05\n",
      "('T-Shirts', 'Cereal', 'Vegetables', 'Deli Meats')\n",
      "0.05\n",
      "('T-Shirts', 'Cereal', 'Vegetables', 'Lotion')\n",
      "0.15\n",
      "('T-Shirts', 'Cereal', 'Vegetables', 'Coat Hangers')\n",
      "0.1\n",
      "('T-Shirts', 'Cereal', 'Deli Meats', 'Lotion')\n",
      "0.05\n",
      "('T-Shirts', 'Cereal', 'Deli Meats', 'Coat Hangers')\n",
      "0.05\n",
      "('T-Shirts', 'Cereal', 'Lotion', 'Coat Hangers')\n",
      "0.1\n",
      "('T-Shirts', 'Vegetables', 'Deli Meats', 'Lotion')\n",
      "0.05\n",
      "('T-Shirts', 'Vegetables', 'Deli Meats', 'Coat Hangers')\n",
      "0.05\n",
      "('T-Shirts', 'Vegetables', 'Lotion', 'Coat Hangers')\n",
      "0.1\n",
      "('T-Shirts', 'Deli Meats', 'Lotion', 'Coat Hangers')\n",
      "0.05\n",
      "('Cereal', 'Vegetables', 'Deli Meats', 'Lotion')\n",
      "0.1\n",
      "('Cereal', 'Vegetables', 'Deli Meats', 'Coat Hangers')\n",
      "0.05\n",
      "('Cereal', 'Vegetables', 'Lotion', 'Coat Hangers')\n",
      "0.1\n",
      "('Cereal', 'Deli Meats', 'Lotion', 'Coat Hangers')\n",
      "0.05\n",
      "('Vegetables', 'Deli Meats', 'Lotion', 'Coat Hangers')\n",
      "0.05\n",
      "('Cheese', 'T-Shirts', 'Cereal', 'Vegetables', 'Deli Meats')\n",
      "0.05\n",
      "('Cheese', 'T-Shirts', 'Cereal', 'Vegetables', 'Lotion')\n",
      "0.05\n",
      "('Cheese', 'T-Shirts', 'Cereal', 'Vegetables', 'Coat Hangers')\n",
      "0.05\n",
      "('Cheese', 'T-Shirts', 'Cereal', 'Deli Meats', 'Lotion')\n",
      "0.05\n",
      "('Cheese', 'T-Shirts', 'Cereal', 'Deli Meats', 'Coat Hangers')\n",
      "0.05\n",
      "('Cheese', 'T-Shirts', 'Cereal', 'Lotion', 'Coat Hangers')\n",
      "0.05\n",
      "('Cheese', 'T-Shirts', 'Vegetables', 'Deli Meats', 'Lotion')\n",
      "0.05\n",
      "('Cheese', 'T-Shirts', 'Vegetables', 'Deli Meats', 'Coat Hangers')\n",
      "0.05\n",
      "('Cheese', 'T-Shirts', 'Vegetables', 'Lotion', 'Coat Hangers')\n",
      "0.05\n",
      "('Cheese', 'T-Shirts', 'Deli Meats', 'Lotion', 'Coat Hangers')\n",
      "0.05\n",
      "('Cheese', 'Cereal', 'Vegetables', 'Deli Meats', 'Lotion')\n",
      "0.05\n",
      "('Cheese', 'Cereal', 'Vegetables', 'Deli Meats', 'Coat Hangers')\n",
      "0.05\n",
      "('Cheese', 'Cereal', 'Vegetables', 'Lotion', 'Coat Hangers')\n",
      "0.05\n",
      "('Cheese', 'Cereal', 'Deli Meats', 'Lotion', 'Coat Hangers')\n",
      "0.05\n",
      "('Cheese', 'Vegetables', 'Deli Meats', 'Lotion', 'Coat Hangers')\n",
      "0.05\n",
      "('T-Shirts', 'Cereal', 'Vegetables', 'Deli Meats', 'Lotion')\n",
      "0.05\n",
      "('T-Shirts', 'Cereal', 'Vegetables', 'Deli Meats', 'Coat Hangers')\n",
      "0.05\n",
      "('T-Shirts', 'Cereal', 'Vegetables', 'Lotion', 'Coat Hangers')\n",
      "0.1\n",
      "('T-Shirts', 'Cereal', 'Deli Meats', 'Lotion', 'Coat Hangers')\n",
      "0.05\n",
      "('T-Shirts', 'Vegetables', 'Deli Meats', 'Lotion', 'Coat Hangers')\n",
      "0.05\n",
      "('Cereal', 'Vegetables', 'Deli Meats', 'Lotion', 'Coat Hangers')\n",
      "0.05\n",
      "('Cheese', 'T-Shirts', 'Cereal', 'Vegetables', 'Deli Meats', 'Lotion')\n",
      "0.05\n",
      "('Cheese', 'T-Shirts', 'Cereal', 'Vegetables', 'Deli Meats', 'Coat Hangers')\n",
      "0.05\n",
      "('Cheese', 'T-Shirts', 'Cereal', 'Vegetables', 'Lotion', 'Coat Hangers')\n",
      "0.05\n",
      "('Cheese', 'T-Shirts', 'Cereal', 'Deli Meats', 'Lotion', 'Coat Hangers')\n",
      "0.05\n",
      "('Cheese', 'T-Shirts', 'Vegetables', 'Deli Meats', 'Lotion', 'Coat Hangers')\n",
      "0.05\n",
      "('Cheese', 'Cereal', 'Vegetables', 'Deli Meats', 'Lotion', 'Coat Hangers')\n",
      "0.05\n",
      "('T-Shirts', 'Cereal', 'Vegetables', 'Deli Meats', 'Lotion', 'Coat Hangers')\n",
      "0.05\n",
      "('Cheese', 'T-Shirts', 'Cereal', 'Vegetables', 'Deli Meats', 'Lotion', 'Coat Hangers')\n",
      "0.05\n",
      "{'Cheese': 0.35, 'T-Shirts': 0.3, 'Cereal': 0.45, 'Vegetables': 0.65, 'Deli Meats': 0.4, 'Lotion': 0.45, 'Coat Hangers': 0.45, ('Cheese', 'Coat Hangers'): 0.2, ('T-Shirts', 'Vegetables'): 0.3, ('T-Shirts', 'Lotion'): 0.2, ('Cereal', 'Vegetables'): 0.3, ('Cereal', 'Deli Meats'): 0.2, ('Cereal', 'Lotion'): 0.2, ('Cereal', 'Coat Hangers'): 0.2, ('Vegetables', 'Deli Meats'): 0.25, ('Vegetables', 'Lotion'): 0.35, ('Vegetables', 'Coat Hangers'): 0.2, ('Lotion', 'Coat Hangers'): 0.2, ('T-Shirts', 'Vegetables', 'Lotion'): 0.2, ('Cereal', 'Vegetables', 'Lotion'): 0.2}\n"
     ]
    }
   ],
   "source": [
    "dict_items_support={}\n",
    "\n",
    "for keys in dict_items_occurance: \n",
    "    print(keys)\n",
    "    support= dict_items_occurance[keys]/len(Transactions)\n",
    "    print(support)\n",
    "    if support>=min_support:\n",
    "        dict_items_support[keys]=support\n",
    "\n",
    "print(dict_items_support)\n"
   ]
  },
  {
   "cell_type": "markdown",
   "metadata": {},
   "source": [
    "We are going to find the confidence"
   ]
  },
  {
   "cell_type": "code",
   "execution_count": 533,
   "metadata": {},
   "outputs": [
    {
     "name": "stdout",
     "output_type": "stream",
     "text": [
      "{' Coat Hangers----->Cheese': 0.5714285714285715, ' Cheese----->Coat Hangers': 0.4444444444444445, ' Vegetables----->T-Shirts': 1.0, ' T-Shirts----->Vegetables': 0.4615384615384615, ' Lotion----->T-Shirts': 0.6666666666666667, ' T-Shirts----->Lotion': 0.4444444444444445, ' Vegetables----->Cereal': 0.6666666666666666, ' Cereal----->Vegetables': 0.4615384615384615, ' Deli Meats----->Cereal': 0.4444444444444445, ' Cereal----->Deli Meats': 0.5, ' Lotion----->Cereal': 0.4444444444444445, ' Cereal----->Lotion': 0.4444444444444445, ' Coat Hangers----->Cereal': 0.4444444444444445, ' Cereal----->Coat Hangers': 0.4444444444444445, ' Deli Meats----->Vegetables': 0.3846153846153846, ' Vegetables----->Deli Meats': 0.625, ' Lotion----->Vegetables': 0.5384615384615384, ' Vegetables----->Lotion': 0.7777777777777777, ' Coat Hangers----->Vegetables': 0.3076923076923077, ' Vegetables----->Coat Hangers': 0.4444444444444445, ' Coat Hangers----->Lotion': 0.4444444444444445, ' Lotion----->Coat Hangers': 0.4444444444444445, ' VegetablesLotion----->T-Shirts': 0.6666666666666667, ' T-ShirtsLotion----->Vegetables': 0.3076923076923077, ' T-ShirtsVegetables----->Lotion': 0.4444444444444445, ' VegetablesLotion----->Cereal': 0.4444444444444445, ' CerealLotion----->Vegetables': 0.3076923076923077, ' CerealVegetables----->Lotion': 0.4444444444444445}\n"
     ]
    }
   ],
   "source": [
    "dict_items_confidence={}\n",
    "\n",
    "for keys in dict_items_support: \n",
    "    add_to_dict=False\n",
    "    if type(keys) !=tuple:\n",
    "        continue\n",
    "    for items in keys:\n",
    "        confidence=dict_items_support[keys]/dict_items_support[items]\n",
    "        if confidence>=min_confidence:\n",
    "            add_to_dict=True\n",
    "        else:\n",
    "            add_to_dict=False\n",
    "            break\n",
    "    if add_to_dict==True:\n",
    "        new_key=\" \"\n",
    "        \n",
    "        for items in keys:\n",
    "            new_key=\" \"\n",
    "            confidence=dict_items_support[keys]/dict_items_support[items]\n",
    "            for  association in keys: \n",
    "                if association != items:\n",
    "                    new_key+=association\n",
    "            new_key+=\"----->\"+items\n",
    "            \n",
    "            dict_items_confidence[new_key]=confidence\n",
    "\n",
    "\n",
    "print(dict_items_confidence)\n",
    "\n",
    "    "
   ]
  },
  {
   "cell_type": "markdown",
   "metadata": {},
   "source": [
    "Implementing the Apriori Package"
   ]
  },
  {
   "cell_type": "code",
   "execution_count": 534,
   "metadata": {},
   "outputs": [
    {
     "name": "stdout",
     "output_type": "stream",
     "text": [
      "Rule:  -> Cereal\n",
      "Confidence: 0.45\n",
      "\n",
      "Rule:  -> Cheese\n",
      "Confidence: 0.35\n",
      "\n",
      "Rule:  -> Coat Hangers\n",
      "Confidence: 0.45\n",
      "\n",
      "Rule:  -> Deli Meats\n",
      "Confidence: 0.4\n",
      "\n",
      "Rule:  -> Lotion\n",
      "Confidence: 0.45\n",
      "\n",
      "Rule:  -> T-Shirts\n",
      "Confidence: 0.3\n",
      "\n",
      "Rule:  -> Vegetables\n",
      "Confidence: 0.65\n",
      "\n",
      "Rule: Coat Hangers -> Cereal\n",
      "Confidence: 0.2\n",
      "\n",
      "Rule: Cereal -> Deli Meats\n",
      "Confidence: 0.2\n",
      "\n",
      "Rule: Cereal -> Lotion\n",
      "Confidence: 0.2\n",
      "\n",
      "Rule: Cereal -> Vegetables\n",
      "Confidence: 0.3\n",
      "\n",
      "Rule: Coat Hangers -> Cheese\n",
      "Confidence: 0.2\n",
      "\n",
      "Rule: Coat Hangers -> Lotion\n",
      "Confidence: 0.2\n",
      "\n",
      "Rule: Coat Hangers -> Vegetables\n",
      "Confidence: 0.2\n",
      "\n",
      "Rule: Deli Meats -> Vegetables\n",
      "Confidence: 0.25\n",
      "\n",
      "Rule: Lotion -> T-Shirts\n",
      "Confidence: 0.2\n",
      "\n",
      "Rule: Lotion -> Vegetables\n",
      "Confidence: 0.35\n",
      "\n",
      "Rule: Vegetables -> T-Shirts\n",
      "Confidence: 0.3\n",
      "\n",
      "Rule: Cereal, Lotion -> Vegetables\n",
      "Confidence: 0.2\n",
      "\n",
      "Rule: Lotion, Vegetables -> T-Shirts\n",
      "Confidence: 0.2\n",
      "\n"
     ]
    }
   ],
   "source": [
    "from apyori import apriori\n",
    "\n",
    "# Example transaction dataset (list of lists)\n",
    "\n",
    "\n",
    "# Apply the Apriori algorithm\n",
    "min_support = 0.2\n",
    "min_confidence = 0.2\n",
    "rules = apriori(Transactions, min_support=min_support, min_confidence=min_confidence)\n",
    "\n",
    "# Display the association rules with confidence\n",
    "for rule in rules:\n",
    "    items = [item for item in rule.items]\n",
    "    antecedent = ', '.join(items[:-1])\n",
    "    consequent = items[-1]\n",
    "    confidence = rule.ordered_statistics[0].confidence\n",
    "\n",
    "    if confidence >= min_confidence:\n",
    "        print(f\"Rule: {antecedent} -> {consequent}\")\n",
    "        print(f\"Confidence: {confidence}\\n\")"
   ]
  }
 ],
 "metadata": {
  "kernelspec": {
   "display_name": "base",
   "language": "python",
   "name": "python3"
  },
  "language_info": {
   "codemirror_mode": {
    "name": "ipython",
    "version": 3
   },
   "file_extension": ".py",
   "mimetype": "text/x-python",
   "name": "python",
   "nbconvert_exporter": "python",
   "pygments_lexer": "ipython3",
   "version": "3.11.5"
  }
 },
 "nbformat": 4,
 "nbformat_minor": 2
}
