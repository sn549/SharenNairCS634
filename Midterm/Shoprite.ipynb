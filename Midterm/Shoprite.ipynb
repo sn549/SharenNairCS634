{
 "cells": [
  {
   "cell_type": "markdown",
   "metadata": {},
   "source": [
    "Kmart"
   ]
  },
  {
   "cell_type": "code",
   "execution_count": 8,
   "metadata": {},
   "outputs": [
    {
     "name": "stdout",
     "output_type": "stream",
     "text": [
      "    TransactionID                                       Transactions\n",
      "0               1           [Cereal, Vegetables, Deli Meats, Lotion]\n",
      "1               2                     [Vegetables, T-Shirts, Cheese]\n",
      "2               3                             [Cereal, Coat Hangers]\n",
      "3               4                               [Lotion, Vegetables]\n",
      "4               5                 [Deli Meats, T-Shirts, Vegetables]\n",
      "5               6                         [Coat Hangers, Vegetables]\n",
      "6               7                       [Cheese, Cereal, Deli Meats]\n",
      "7               8                             [Cheese, Coat Hangers]\n",
      "8               9                   [Cereal, Deli Meats, Vegetables]\n",
      "9              10                 [Deli Meats, Cheese, Coat Hangers]\n",
      "10             11                               [Vegetables, Lotion]\n",
      "11             12                                   [Cereal, Cheese]\n",
      "12             13             [T-Shirts, Vegetables, Cereal, Lotion]\n",
      "13             14                 [Deli Meats, Lotion, Coat Hangers]\n",
      "14             15                           [Vegetables, Deli Meats]\n",
      "15             16                     [Lotion, T-Shirts, Vegetables]\n",
      "16             17                 [Coat Hangers, Vegetables, Cereal]\n",
      "17             18  [Vegetables, Coat Hangers, Cereal, Lotion, T-S...\n",
      "18             19                     [Cheese, Coat Hangers, Lotion]\n",
      "19             20                                 [Cheese, T-Shirts]\n"
     ]
    }
   ],
   "source": [
    "#shoprite\n",
    "import pandas as pd\n",
    "import random\n",
    "\n",
    "itemlist=[\"Cearal\",\"Coat Hangers\",\"Vegetables\",\"T-Shirts\",\"Deli Meats\",\"Lotion\",\"Cheese\"]\n",
    "\n",
    "transaction = [\n",
    "    [\"Cereal\",\"Vegetables\",\"Deli Meats\",\"Lotion\"],\n",
    "    [\"Vegetables\",\"T-Shirts\",\"Cheese\"],\n",
    "    [\"Cereal\",\"Coat Hangers\"],\n",
    "    [\"Lotion\",\"Vegetables\"], \n",
    "    [\"Deli Meats\",\"T-Shirts\",\"Vegetables\"], \n",
    "    [\"Coat Hangers\",\"Vegetables\"],\n",
    "    [\"Cheese\",\"Cereal\",\"Deli Meats\"],\n",
    "    [\"Cheese\", \"Coat Hangers\"], \n",
    "    [\"Cereal\",\"Deli Meats\",\"Vegetables\"], \n",
    "    [\"Deli Meats\",\"Cheese\",\"Coat Hangers\"],\n",
    "    [\"Vegetables\", \"Lotion\"],\n",
    "    [\"Cereal\",\"Cheese\"],\n",
    "    [\"T-Shirts\",\"Vegetables\",\"Cereal\",\"Lotion\"],\n",
    "    [\"Deli Meats\", \"Lotion\",\"Coat Hangers\"], \n",
    "    [\"Vegetables\",\"Deli Meats\"],\n",
    "    [\"Lotion\", \"T-Shirts\", \"Vegetables\"],\n",
    "    [\"Coat Hangers\", \"Vegetables\",\"Cereal\"],\n",
    "    [\"Vegetables\", \"Coat Hangers\",\"Cereal\", \"Lotion\",\"T-Shirts\"],\n",
    "    [\"Cheese\",\"Coat Hangers\",\"Lotion\"],\n",
    "    [\"Cheese\",\"T-Shirts\"],\n",
    "]\n",
    "\n",
    "# print(len(transaction))\n",
    "\n",
    "\n",
    "df = pd.DataFrame({'TransactionID': range(1, len(transaction)+1), 'Transactions': transaction})\n",
    "print(df)\n",
    "df.to_csv('kmart.csv', index=False)"
   ]
  },
  {
   "cell_type": "markdown",
   "metadata": {},
   "source": [
    "SHOPRITE"
   ]
  },
  {
   "cell_type": "code",
   "execution_count": 7,
   "metadata": {},
   "outputs": [
    {
     "name": "stdout",
     "output_type": "stream",
     "text": [
      "    TransactionID                                       Items\n",
      "0               1              [Bread, Milk, Cookies, Orange]\n",
      "1               2                 [Yogurt, Ice Cream, Orange]\n",
      "2               3                               [Bread, Milk]\n",
      "3               4                        [Ice Cream, Cookies]\n",
      "4               5                    [Milk, Cookies, Oranges]\n",
      "5               6                            [Oranges, Bread]\n",
      "6               7                  [Cookies, Milk, Ice Cream]\n",
      "7               8                             [Yogurt, Bread]\n",
      "8               9                  [Ice Cream, Milk, Cookies]\n",
      "9              10                       [Bread, Yogurt, Milk]\n",
      "10             11                             [Milk, Cookies]\n",
      "11             12                              [Orange, Milk]\n",
      "12             13              [Bread, Orange, Cookies, Milk]\n",
      "13             14                     [Cookies, Milk, Yogurt]\n",
      "14             15                          [Ice Cream, Bread]\n",
      "15             16                     [Milk, Cookies, Yogurt]\n",
      "16             17                    [Yogurt, Bread, Oranges]\n",
      "17             18  [Milk, Cookies, Bread, Oranges, Ice Cream]\n",
      "18             19                  [Yogurt, Bread, Ice Cream]\n",
      "19             20                            [Bread, Cookies]\n"
     ]
    }
   ],
   "source": [
    "#kmart\n",
    "import pandas as pd\n",
    "import random\n",
    "\n",
    "itemlist=[\"Milk\",\"Cookies\",\"Oranges\",\"Yogurt\",\"Bread\",\"Ice Cream\"]\n",
    "\n",
    "transaction = [\n",
    "    [\"Bread\",\"Milk\",\"Cookies\",\"Orange\"],\n",
    "    [\"Yogurt\",\"Ice Cream\",\"Orange\"],\n",
    "    [\"Bread\",\"Milk\"],\n",
    "    [\"Ice Cream\",\"Cookies\"], \n",
    "    [\"Milk\",\"Cookies\",\"Oranges\"], \n",
    "    [\"Oranges\",\"Bread\"],\n",
    "    [\"Cookies\",\"Milk\",\"Ice Cream\"],\n",
    "    [\"Yogurt\", \"Bread\"], \n",
    "    [\"Ice Cream\",\"Milk\",\"Cookies\"], \n",
    "    [\"Bread\",\"Yogurt\",\"Milk\"],\n",
    "    [\"Milk\", \"Cookies\"],\n",
    "    [\"Orange\",\"Milk\"],\n",
    "    [\"Bread\",\"Orange\",\"Cookies\",\"Milk\"],\n",
    "    [\"Cookies\", \"Milk\",\"Yogurt\"], \n",
    "    [\"Ice Cream\",\"Bread\"],\n",
    "    [\"Milk\", \"Cookies\", \"Yogurt\"],\n",
    "    [\"Yogurt\", \"Bread\",\"Oranges\"],\n",
    "    [\"Milk\", \"Cookies\",\"Bread\", \"Oranges\",\"Ice Cream\"],\n",
    "    [\"Yogurt\",\"Bread\",\"Ice Cream\"],\n",
    "    [\"Bread\",\"Cookies\"],\n",
    "]\n",
    "\n",
    "# print(len(transaction))\n",
    "\n",
    "\n",
    "df = pd.DataFrame({'TransactionID': range(1, len(transaction)+1), 'Items': transaction})\n",
    "print(df)\n",
    "df.to_csv('shoprite.csv', index=False)"
   ]
  },
  {
   "cell_type": "markdown",
   "metadata": {},
   "source": [
    "AMAZON"
   ]
  },
  {
   "cell_type": "code",
   "execution_count": 6,
   "metadata": {},
   "outputs": [
    {
     "name": "stdout",
     "output_type": "stream",
     "text": [
      "    TransactionID                                          Items\n",
      "0               1               [Coffee, Pancake, Jacket, Candy]\n",
      "1               2                   [Jacket, Creatine, Necklace]\n",
      "2               3                             [Coffee, Necklace]\n",
      "3               4                              [Candy, Creatine]\n",
      "4               5                      [Coffee, Candy, Creatine]\n",
      "5               6                             [Jacket, Necklace]\n",
      "6               7                       [Coffee, Candy, Pancake]\n",
      "7               8                            [Creatine, Pancake]\n",
      "8               9                     [Necklace, Jacket, Coffee]\n",
      "9              10                       [Coffee, Candy, Pancake]\n",
      "10             11                             [Jacket, Necklace]\n",
      "11             12                             [Creatine, Coffee]\n",
      "12             13             [Necklace, Candy, Coffee, Pancake]\n",
      "13             14                   [Creatine, Coffee, Creatine]\n",
      "14             15                             [Jacket, Necklace]\n",
      "15             16                     [Necklace, Coffee, Jacket]\n",
      "16             17                    [Creatine, Pancake, Jacket]\n",
      "17             18  [Jacket, Creatine, Coffee, Necklace, Pancake]\n",
      "18             19                       [Candy, Pancake, Coffee]\n",
      "19             20                             [Jacket, Creatine]\n"
     ]
    }
   ],
   "source": [
    "#AMAZON\n",
    "import pandas as pd\n",
    "import random\n",
    "\n",
    "itemlist=[\"Jacket\",\"Pancake\",\"Necklace\",\"Creatine\",\"Candy\",\"Coffee\"]\n",
    "\n",
    "transaction = [\n",
    "    [\"Coffee\",\"Pancake\",\"Jacket\",\"Candy\"],\n",
    "    [\"Jacket\",\"Creatine\",\"Necklace\"],\n",
    "    [\"Coffee\",\"Necklace\"],\n",
    "    [\"Candy\",\"Creatine\"], \n",
    "    [\"Coffee\",\"Candy\",\"Creatine\"], \n",
    "    [\"Jacket\",\"Necklace\"],\n",
    "    [\"Coffee\",\"Candy\",\"Pancake\"],\n",
    "    [\"Creatine\", \"Pancake\"], \n",
    "    [\"Necklace\",\"Jacket\",\"Coffee\"], \n",
    "    [\"Coffee\",\"Candy\",\"Pancake\"],\n",
    "    [\"Jacket\", \"Necklace\"],\n",
    "    [\"Creatine\",\"Coffee\"],\n",
    "    [\"Necklace\",\"Candy\",\"Coffee\",\"Pancake\"],\n",
    "    [\"Creatine\", \"Coffee\",\"Creatine\"], \n",
    "    [\"Jacket\",\"Necklace\"],\n",
    "    [\"Necklace\", \"Coffee\", \"Jacket\"],\n",
    "    [\"Creatine\", \"Pancake\",\"Jacket\"],\n",
    "    [\"Jacket\", \"Creatine\",\"Coffee\", \"Necklace\",\"Pancake\"],\n",
    "    [\"Candy\",\"Pancake\",\"Coffee\"],\n",
    "    [\"Jacket\",\"Creatine\"],\n",
    "]\n",
    "\n",
    "# print(len(transaction))\n",
    "\n",
    "\n",
    "df = pd.DataFrame({'TransactionID': range(1, len(transaction)+1), 'Items': transaction})\n",
    "print(df)\n",
    "df.to_csv('AMAZON.csv', index=False)"
   ]
  },
  {
   "cell_type": "markdown",
   "metadata": {},
   "source": [
    "NBA"
   ]
  },
  {
   "cell_type": "code",
   "execution_count": 10,
   "metadata": {},
   "outputs": [
    {
     "name": "stdout",
     "output_type": "stream",
     "text": [
      "    TransactionID                            Transactions\n",
      "0               1            [Kobe, Lebron, Rose, Doncic]\n",
      "1               2                  [Kobe, Lebron, Durant]\n",
      "2               3                          [Durant, Kobe]\n",
      "3               4                          [Durant, Rose]\n",
      "4               5                    [Kobe, Jordan, Rose]\n",
      "5               6                          [Lebron, Kobe]\n",
      "6               7                  [Lebron, Rose, Durant]\n",
      "7               8                          [Lebron, Kobe]\n",
      "8               9                [Lebron, Jordan, Doncic]\n",
      "9              10                  [Kobe, Lebron, Doncic]\n",
      "10             11                          [Doncic, Rose]\n",
      "11             12                        [Lebron, Doncic]\n",
      "12             13          [Lebron, Durant, Jordan, Kobe]\n",
      "13             14                  [Lebron, Kobe, Durant]\n",
      "14             15                          [Kobe, Durant]\n",
      "15             16                    [Lebron, Rose, Kobe]\n",
      "16             17                  [Lebron, Rose, Durant]\n",
      "17             18  [Lebron, Jordan, Doncic, Durant, Kobe]\n",
      "18             19                  [Kobe, Doncic, Jordan]\n",
      "19             20                          [Kobe, Jordan]\n"
     ]
    }
   ],
   "source": [
    "#shoprite\n",
    "import pandas as pd\n",
    "import random\n",
    "\n",
    "itemlist=[\"Kobe\",\"Jordan\",\"Lebron\",\"Rose\",\"Durant\",\"Doncic\"]\n",
    "\n",
    "transaction = [\n",
    "    [\"Kobe\",\"Lebron\",\"Rose\",\"Doncic\"],\n",
    "    [\"Kobe\",\"Lebron\",\"Durant\"],\n",
    "    [\"Durant\",\"Kobe\"],\n",
    "    [\"Durant\",\"Rose\"], \n",
    "    [\"Kobe\",\"Jordan\",\"Rose\"], \n",
    "    [\"Lebron\",\"Kobe\"],\n",
    "    [\"Lebron\",\"Rose\",\"Durant\"],\n",
    "    [\"Lebron\", \"Kobe\"], \n",
    "    [\"Lebron\",\"Jordan\",\"Doncic\"], \n",
    "    [\"Kobe\",\"Lebron\",\"Doncic\"],\n",
    "    [\"Doncic\", \"Rose\"],\n",
    "    [\"Lebron\",\"Doncic\"],\n",
    "    [\"Lebron\",\"Durant\",\"Jordan\",\"Kobe\"],\n",
    "    [\"Lebron\", \"Kobe\",\"Durant\"], \n",
    "    [\"Kobe\",\"Durant\"],\n",
    "    [\"Lebron\", \"Rose\", \"Kobe\"],\n",
    "    [\"Lebron\", \"Rose\",\"Durant\"],\n",
    "    [\"Lebron\", \"Jordan\",\"Doncic\", \"Durant\",\"Kobe\"],\n",
    "    [\"Kobe\",\"Doncic\",\"Jordan\"],\n",
    "    [\"Kobe\",\"Jordan\"],\n",
    "]\n",
    "\n",
    "# print(len(transaction))\n",
    "\n",
    "\n",
    "df = pd.DataFrame({'TransactionID': range(1, len(transaction)+1), 'Transactions': transaction})\n",
    "print(df)\n",
    "df.to_csv('NBA.csv', index=False)"
   ]
  },
  {
   "cell_type": "markdown",
   "metadata": {},
   "source": [
    "Express"
   ]
  },
  {
   "cell_type": "code",
   "execution_count": 4,
   "metadata": {},
   "outputs": [
    {
     "name": "stdout",
     "output_type": "stream",
     "text": [
      "    TransactionID                  Transactions\n",
      "0               1    [Boots, Suit, Shoes, Coat]\n",
      "1               2           [Suit, Boots, Coat]\n",
      "2               3                  [Suit, Coat]\n",
      "3               4                [Coat, Shirts]\n",
      "4               5          [Coat, Boots, Shoes]\n",
      "5               6                [Shirts, Suit]\n",
      "6               7          [Boots, Shoes, Suit]\n",
      "7               8                  [Coat, Suit]\n",
      "8               9         [Shirts, Boots, Suit]\n",
      "9              10          [Suit, Coat, Shirts]\n",
      "10             11                [Suit, Shirts]\n",
      "11             12         [Boots, Shirts, Coat]\n",
      "12             13         [Suit, Shirts, Shoes]\n",
      "13             14          [Coat, Boots, Shoes]\n",
      "14             15          [Suit, Coat, Shirts]\n",
      "15             16           [Coat, Suit, Boots]\n",
      "16             17          [Boots, Suit, Shoes]\n",
      "17             18  [Shirts, Boots, Shoes, Suit]\n",
      "18             19         [Shirts, Suit, Boots]\n",
      "19             20                [Boots, Shoes]\n"
     ]
    }
   ],
   "source": [
    "#shoprite\n",
    "import pandas as pd\n",
    "import random\n",
    "\n",
    "itemlist=[\"Boots\",\"Coat\",\"Shirts\",\"Shoes\",\"Suit\"]\n",
    "\n",
    "transaction = [\n",
    "    [\"Boots\",\"Suit\",\"Shoes\",\"Coat\"],\n",
    "    [\"Suit\",\"Boots\",\"Coat\"],\n",
    "    [\"Suit\",\"Coat\"],\n",
    "    [\"Coat\",\"Shirts\"], \n",
    "    [\"Coat\",\"Boots\",\"Shoes\"], \n",
    "    [\"Shirts\",\"Suit\"],\n",
    "    [\"Boots\",\"Shoes\",\"Suit\"],\n",
    "    [\"Coat\", \"Suit\"], \n",
    "    [\"Shirts\",\"Boots\",\"Suit\"], \n",
    "    [\"Suit\",\"Coat\",\"Shirts\"],\n",
    "    [\"Suit\", \"Shirts\"],\n",
    "    [\"Boots\",\"Shirts\",\"Coat\"],\n",
    "    [\"Suit\",\"Shirts\",\"Shoes\"],\n",
    "    [\"Coat\", \"Boots\",\"Shoes\"], \n",
    "    [\"Suit\",\"Coat\",\"Shirts\"],\n",
    "    [\"Coat\", \"Suit\", \"Boots\"],\n",
    "    [\"Boots\", \"Suit\",\"Shoes\"],\n",
    "    [\"Shirts\", \"Boots\",\"Shoes\",\"Suit\"],\n",
    "    [\"Shirts\",\"Suit\",\"Boots\"],\n",
    "    [\"Boots\",\"Shoes\"],\n",
    "]\n",
    "\n",
    "# print(len(transaction))\n",
    "\n",
    "\n",
    "df = pd.DataFrame({'TransactionID': range(1, len(transaction)+1), 'Transactions': transaction})\n",
    "print(df)\n",
    "df.to_csv('Express.csv', index=False)"
   ]
  }
 ],
 "metadata": {
  "kernelspec": {
   "display_name": "base",
   "language": "python",
   "name": "python3"
  },
  "language_info": {
   "codemirror_mode": {
    "name": "ipython",
    "version": 3
   },
   "file_extension": ".py",
   "mimetype": "text/x-python",
   "name": "python",
   "nbconvert_exporter": "python",
   "pygments_lexer": "ipython3",
   "version": "3.11.5"
  }
 },
 "nbformat": 4,
 "nbformat_minor": 2
}
